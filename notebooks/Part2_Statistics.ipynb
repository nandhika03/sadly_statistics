{
 "cells": [
  {
   "cell_type": "markdown",
   "id": "adcb53fa",
   "metadata": {},
   "source": [
    "**The Averages: Measures of Central Tendancy**\n",
    "\n",
    "The one thing that I struggle with the most is cooking. It's because when my mother teaches me something in her kitchen, it all falls perfectly in place. However, whenI do it on my own, it does not seem to work out with the ratios. That is when I decided to eye the ratio of ingridients that she used and use the average of that in my cooking. Well, it did not seem to taste very good. But, I did understand the concept of averages.\n",
    "\n",
    "There are three different types of averages, the mean, the median and the mode.\n",
    "\n"
   ]
  },
  {
   "cell_type": "code",
   "execution_count": null,
   "id": "59d9ae70",
   "metadata": {},
   "outputs": [],
   "source": []
  }
 ],
 "metadata": {
  "kernelspec": {
   "display_name": "Python 3 (ipykernel)",
   "language": "python",
   "name": "python3"
  },
  "language_info": {
   "codemirror_mode": {
    "name": "ipython",
    "version": 3
   },
   "file_extension": ".py",
   "mimetype": "text/x-python",
   "name": "python",
   "nbconvert_exporter": "python",
   "pygments_lexer": "ipython3",
   "version": "3.8.8"
  }
 },
 "nbformat": 4,
 "nbformat_minor": 5
}
