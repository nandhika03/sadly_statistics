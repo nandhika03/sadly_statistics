{
 "cells": [
  {
   "cell_type": "markdown",
   "id": "c09619b3",
   "metadata": {},
   "source": [
    "# **The Averages: Measures of Central Tendancy**\n",
    "\n",
    "The one thing that I struggle with the most is cooking. It's because when my mother teaches me something in her kitchen, it all falls perfectly in place. However, when I do it on my own, it does not seem to work out with the ratios. That is when I decided to eye the ratio of ingridients that she used and use the average of that in my cooking. Well, it did not seem to taste very good. But, I did understand the concept of averages.\n",
    "\n",
    "There are three different types of averages, the mean, the median and the mode.\n",
    "\n",
    "### **Mean:**\n",
    "- Mean is the most commonly used measure of central tendency.\n",
    "- Imagine you study 5 subjects and your friend asks you the 'average mark you got' in all the 5 subjects. You would add all the 5 subject marks and divide it by 5. That, is the mean\n",
    "- The book also pushes us to think about mean as the 'fulcrum(midpoint)' of a 'see-saw'. The former is the one that would be in a straight line if the weights are almost equal; that is what mean does.\n",
    "- All the values on either side of the mean has almost equal weight.\n",
    "- Hence, mean does not work well when we have extreme values as it becomes less representative of the actual scores.\n",
    "- There are other types of mean like the arithmetic and harmonic mean, where the arithmentic mean is something where the standard deviations from the mean tends to be zero.\n",
    "- Precision: mean > median\n",
    "*Weighted Mean*:\n",
    "- When the frequency comes into play, then we multiply the value with the frequency to arrive at the weighted mean.\n",
    "\n",
    "### **Median:**\n",
    "- The Median could be envisioned as the value after which 50% of the values fall and before which the rest of the 50% of the values fall\n",
    "- The mean is like balancing two water-filled buckets over a stick, whereas the median is like the middle checkpoint while running a marathon uphill. It is something that comes exactly in-between.\n",
    "- To calculate the median value, we would have to arrange the values in ascending order and then find the middle most value, and if the no:of observations is even, then we take the mean of the two-middle most value.\n",
    "- The median does not bother about the extreme values and hence can be used over mean.\n",
    "- *The percentiles* : The median could also be called as the 50th percentile\n",
    "- Precision : median > mode\n",
    "\n",
    "### **Mode:**\n",
    "- The mode tells us which feature or observation (variable) has occured the most. \n",
    "- It is just the highest no: of occurences of an observed value.\n",
    "- There can be unimodal, bimodal and multimodal distributions.\n",
    "- The mode represents the feature which occcured the most and not the no: of the occurences itself.\n",
    "- The mode is often used with qualitative data, and when the categories involved are mutually exclusive in nature.\n",
    "\n",
    "### **Scale of Measurements:**\n",
    "- The scales of measurements are just the way we measure things.\n",
    "- There are four of them:\n",
    "- *Nominal*: The nominal scale intends that the outcome can be put either under this label or under that label. Example: Male, Female, Transgender, LGBTQ+. This is the least precise form of measurement.\n",
    "- *Ordinal*: The ordinal scale intends to order the outcome based on its importance or based on its general order in nature. Example: Primary school, secondary school and College.\n",
    "- *Interval*: The interval scale intends goes beyond the other two scales and tells us how much is one outcome different from the other outcome. The space in the scale tends to be uniform.\n",
    "- *Ratio*: This scale includes the luxury of measuring nothingness by begining the scale from zero. This would be useful in physical and biological sciences. \n",
    "- The precision of the scales increase as the go from nominal to ratio\n",
    "\n",
    "### **Usability**:\n",
    "- The Quantitative data can make use of mean and the median mostly measured in terms of ratio and interval scales.\n",
    "- The Qualitative data could tend to mode and ofcourse mostly measured in terms of nominal and ordinal scales.\n",
    "\n",
    "### **Data**:\n",
    "\n",
    "- Now this dataset contains a lot of sub-datasets.\n",
    "- We will be using the 'grades.csv' dataset from the 'education' subfolder\n",
    "- We use this data, because of the simple numerical (quantitative data) that can be use to understand the concepts of mean and median."
   ]
  },
  {
   "cell_type": "code",
   "execution_count": 1,
   "id": "93a9161d",
   "metadata": {},
   "outputs": [],
   "source": [
    "#Importing the necessary libraries\n",
    "import numpy as np\n",
    "import pandas as pd\n",
    "import matplotlib.pyplot as plt\n",
    "import seaborn as sns"
   ]
  },
  {
   "cell_type": "code",
   "execution_count": 10,
   "id": "fec6516a",
   "metadata": {},
   "outputs": [
    {
     "data": {
      "text/html": [
       "<div>\n",
       "<style scoped>\n",
       "    .dataframe tbody tr th:only-of-type {\n",
       "        vertical-align: middle;\n",
       "    }\n",
       "\n",
       "    .dataframe tbody tr th {\n",
       "        vertical-align: top;\n",
       "    }\n",
       "\n",
       "    .dataframe thead th {\n",
       "        text-align: right;\n",
       "    }\n",
       "</style>\n",
       "<table border=\"1\" class=\"dataframe\">\n",
       "  <thead>\n",
       "    <tr style=\"text-align: right;\">\n",
       "      <th></th>\n",
       "      <th>uid</th>\n",
       "      <th>gpa_all</th>\n",
       "      <th>gpa_13s</th>\n",
       "      <th>cs_65</th>\n",
       "    </tr>\n",
       "  </thead>\n",
       "  <tbody>\n",
       "    <tr>\n",
       "      <th>0</th>\n",
       "      <td>u01</td>\n",
       "      <td>2.863</td>\n",
       "      <td>1.777778</td>\n",
       "      <td>3.0</td>\n",
       "    </tr>\n",
       "    <tr>\n",
       "      <th>1</th>\n",
       "      <td>u02</td>\n",
       "      <td>3.505</td>\n",
       "      <td>4.000000</td>\n",
       "      <td>4.0</td>\n",
       "    </tr>\n",
       "    <tr>\n",
       "      <th>2</th>\n",
       "      <td>u04</td>\n",
       "      <td>3.029</td>\n",
       "      <td>3.500000</td>\n",
       "      <td>4.0</td>\n",
       "    </tr>\n",
       "    <tr>\n",
       "      <th>3</th>\n",
       "      <td>u05</td>\n",
       "      <td>3.679</td>\n",
       "      <td>3.777778</td>\n",
       "      <td>4.0</td>\n",
       "    </tr>\n",
       "    <tr>\n",
       "      <th>4</th>\n",
       "      <td>u07</td>\n",
       "      <td>3.474</td>\n",
       "      <td>4.000000</td>\n",
       "      <td>4.0</td>\n",
       "    </tr>\n",
       "  </tbody>\n",
       "</table>\n",
       "</div>"
      ],
      "text/plain": [
       "   uid  gpa_all   gpa_13s  cs_65\n",
       "0  u01    2.863  1.777778    3.0\n",
       "1  u02    3.505  4.000000    4.0\n",
       "2  u04    3.029  3.500000    4.0\n",
       "3  u05    3.679  3.777778    4.0\n",
       "4  u07    3.474  4.000000    4.0"
      ]
     },
     "execution_count": 10,
     "metadata": {},
     "output_type": "execute_result"
    }
   ],
   "source": [
    "#Importing the dataset\n",
    "\n",
    "colnames = ['uid','gpa_all','gpa_13s','cs_65']\n",
    "grades = pd.read_csv(\"C:/Users/Nandhika/Documents/GitHub_Projects_Statistics/data/dataset/education/grades.csv\",names=colnames,skiprows=1)\n",
    "\n",
    "#Displaying the first 5 observations from the dataset\n",
    "\n",
    "grades.head()"
   ]
  },
  {
   "cell_type": "markdown",
   "id": "ac4e0d76",
   "metadata": {},
   "source": [
    "**Feature Explanation:**\n",
    "\n",
    "- The 'uid' refers to the student's id, here\n",
    "- The 'gpa_all' corresponds to the Cummulative GPA\n",
    "- The 'gpa_13s' refers to the GPA of the spring term 2013.\n",
    "- The 'cs_65' has the GPA of that particular subject"
   ]
  },
  {
   "cell_type": "code",
   "execution_count": 11,
   "id": "d5884b0a",
   "metadata": {},
   "outputs": [
    {
     "data": {
      "text/plain": [
       "30"
      ]
     },
     "execution_count": 11,
     "metadata": {},
     "output_type": "execute_result"
    }
   ],
   "source": [
    "grades['uid'].count()"
   ]
  },
  {
   "cell_type": "markdown",
   "id": "4af4b383",
   "metadata": {},
   "source": [
    "There are only 30 observations. This means that there are some missing values or some rows have been deleted. As there is no information (As far as I can find) in the website of the dataset about the missing values, we are going to ignore the deleted rows and start-off."
   ]
  },
  {
   "cell_type": "code",
   "execution_count": 15,
   "id": "17cf78b5",
   "metadata": {},
   "outputs": [
    {
     "data": {
      "text/html": [
       "<div>\n",
       "<style scoped>\n",
       "    .dataframe tbody tr th:only-of-type {\n",
       "        vertical-align: middle;\n",
       "    }\n",
       "\n",
       "    .dataframe tbody tr th {\n",
       "        vertical-align: top;\n",
       "    }\n",
       "\n",
       "    .dataframe thead th {\n",
       "        text-align: right;\n",
       "    }\n",
       "</style>\n",
       "<table border=\"1\" class=\"dataframe\">\n",
       "  <thead>\n",
       "    <tr style=\"text-align: right;\">\n",
       "      <th></th>\n",
       "      <th>GPA_ALL</th>\n",
       "      <th>GPA_SPRING_13</th>\n",
       "      <th>GPA_CS65</th>\n",
       "    </tr>\n",
       "  </thead>\n",
       "  <tbody>\n",
       "    <tr>\n",
       "      <th>Mean</th>\n",
       "      <td>3.421533</td>\n",
       "      <td>3.330556</td>\n",
       "      <td>3.622222</td>\n",
       "    </tr>\n",
       "    <tr>\n",
       "      <th>Median</th>\n",
       "      <td>3.490500</td>\n",
       "      <td>3.527778</td>\n",
       "      <td>4.000000</td>\n",
       "    </tr>\n",
       "  </tbody>\n",
       "</table>\n",
       "</div>"
      ],
      "text/plain": [
       "         GPA_ALL  GPA_SPRING_13  GPA_CS65\n",
       "Mean    3.421533       3.330556  3.622222\n",
       "Median  3.490500       3.527778  4.000000"
      ]
     },
     "execution_count": 15,
     "metadata": {},
     "output_type": "execute_result"
    }
   ],
   "source": [
    "#Calculating the mean for all the features\n",
    "\n",
    "data = {\n",
    "    'GPA_ALL': [grades['gpa_all'].mean(), grades['gpa_all'].median()],\n",
    "    'GPA_SPRING_13': [grades['gpa_13s'].mean(), grades['gpa_13s'].median()],\n",
    "    'GPA_CS65': [grades['cs_65'].mean(), grades['cs_65'].median()]\n",
    "}\n",
    "\n",
    "grades_mc = pd.DataFrame(data, index=['Mean', 'Median'])\n",
    "grades_mc"
   ]
  },
  {
   "cell_type": "code",
   "execution_count": 26,
   "id": "180703ec",
   "metadata": {},
   "outputs": [
    {
     "data": {
      "image/png": "[encoded data removed]",
      "text/plain": [
       "<Figure size 1080x360 with 3 Axes>"
      ]
     },
     "metadata": {
      "needs_background": "light"
     },
     "output_type": "display_data"
    },
    {
     "data": {
      "text/plain": [
       "<Figure size 432x288 with 0 Axes>"
      ]
     },
     "metadata": {},
     "output_type": "display_data"
    }
   ],
   "source": [
    "#Let us check the distribution of all the three columns\n",
    "fig, ax = plt.subplots(1,3,figsize=(15,5))\n",
    "sns.histplot(grades['gpa_all'],kde=True,ax=ax[0])\n",
    "sns.histplot(grades['gpa_13s'],kde=True,ax=ax[1])\n",
    "sns.histplot(grades['cs_65'],kde=True,ax=ax[2])\n",
    "plt.show()\n",
    "plt.tight_layout()"
   ]
  },
  {
   "cell_type": "markdown",
   "id": "1cb4d7fe",
   "metadata": {},
   "source": [
    "- The mode does not play a role in this dataset. Note that there would be no inference if we find the highest value in the columns here. It would just be the highest GPA which is already known.\n",
    "- The scale here is the interval scale, because the GPA cannot be zero. It starts with 1."
   ]
  },
  {
   "cell_type": "markdown",
   "id": "5a7e27fe",
   "metadata": {},
   "source": [
    "\n",
    "# KDE:\n",
    "- The GPA seems to be skewed to the right, because a GPA of 4 is the highest GPA. The kernel density estimation function also shows the same trend\n",
    "- By increasing the bandwidth argument in the kw_args, we can get a more smoother kde curve. When the bandwidth decreases we get a more specific but noisier curve.\n",
    "\n",
    "Imagine you have a bunch of points on a number line, like grades or scores. You want to understand how these points are distributed along the line – where they cluster, where they are sparse, and how they spread out. \n",
    "\n",
    "### Histograms\n",
    "\n",
    "- One common way to do this is by using a **histogram**. A histogram divides the number line into bins (like segments) and counts how many points fall into each bin. The result is a series of bars, where the height of each bar shows how many points are in that bin. This gives you a blocky picture of the distribution of your points.\n",
    "\n",
    "### KDE (Kernel Density Estimation)\n",
    "\n",
    "Now, imagine instead of using bins, you take each point and place a little hill (or bump) on it. The height of the hill represents the density of points around that spot. This hill is usually shaped like a bell curve (a Gaussian distribution). \n",
    "\n",
    "- **Adding Hills Together**: Once you place a hill on each point, you add all these hills together. Where the hills overlap, they combine to form higher peaks.\n",
    "- **Smooth Curve**: The result is a smooth, continuous curve that flows along the number line, showing you where points are concentrated (higher peaks) and where they are sparse (lower valleys).\n",
    "\n",
    "This smooth curve is the **KDE plot**. It gives you a more fluid picture of the data distribution compared to the blocky histogram.\n",
    "\n",
    "(the explanation in this cell was generated by ChatGPT-4)\n"
   ]
  },
  {
   "cell_type": "markdown",
   "id": "96566876",
   "metadata": {},
   "source": [
    "### PerceivedStressScale Dataset \n",
    "\n",
    "- This dataset contains the answers given by the students for measuring the level of stress.\n",
    "- This coontains 10 questions to which students have given qualitative answers.\n",
    "- For exploring about mode, let us take the first question.\n",
    "- In the last month, how often have you been upset because of something that happened unexpectedly?"
   ]
  },
  {
   "cell_type": "code",
   "execution_count": 33,
   "id": "7f407779",
   "metadata": {},
   "outputs": [
    {
     "data": {
      "text/html": [
       "<div>\n",
       "<style scoped>\n",
       "    .dataframe tbody tr th:only-of-type {\n",
       "        vertical-align: middle;\n",
       "    }\n",
       "\n",
       "    .dataframe tbody tr th {\n",
       "        vertical-align: top;\n",
       "    }\n",
       "\n",
       "    .dataframe thead th {\n",
       "        text-align: right;\n",
       "    }\n",
       "</style>\n",
       "<table border=\"1\" class=\"dataframe\">\n",
       "  <thead>\n",
       "    <tr style=\"text-align: right;\">\n",
       "      <th></th>\n",
       "      <th>uid</th>\n",
       "      <th>type</th>\n",
       "      <th>one</th>\n",
       "      <th>two</th>\n",
       "      <th>three</th>\n",
       "      <th>four</th>\n",
       "      <th>five</th>\n",
       "      <th>six</th>\n",
       "      <th>seven</th>\n",
       "      <th>eight</th>\n",
       "      <th>nine</th>\n",
       "      <th>ten</th>\n",
       "    </tr>\n",
       "  </thead>\n",
       "  <tbody>\n",
       "    <tr>\n",
       "      <th>0</th>\n",
       "      <td>u00</td>\n",
       "      <td>pre</td>\n",
       "      <td>Sometime</td>\n",
       "      <td>Sometime</td>\n",
       "      <td>Fairly often</td>\n",
       "      <td>Fairly often</td>\n",
       "      <td>Sometime</td>\n",
       "      <td>Very often</td>\n",
       "      <td>Sometime</td>\n",
       "      <td>Sometime</td>\n",
       "      <td>Fairly often</td>\n",
       "      <td>Fairly often</td>\n",
       "    </tr>\n",
       "    <tr>\n",
       "      <th>1</th>\n",
       "      <td>u01</td>\n",
       "      <td>pre</td>\n",
       "      <td>Sometime</td>\n",
       "      <td>Sometime</td>\n",
       "      <td>Sometime</td>\n",
       "      <td>Sometime</td>\n",
       "      <td>Fairly often</td>\n",
       "      <td>Sometime</td>\n",
       "      <td>Fairly often</td>\n",
       "      <td>Fairly often</td>\n",
       "      <td>Almost never</td>\n",
       "      <td>Almost never</td>\n",
       "    </tr>\n",
       "    <tr>\n",
       "      <th>2</th>\n",
       "      <td>u02</td>\n",
       "      <td>pre</td>\n",
       "      <td>Fairly often</td>\n",
       "      <td>Sometime</td>\n",
       "      <td>Sometime</td>\n",
       "      <td>Fairly often</td>\n",
       "      <td>Almost never</td>\n",
       "      <td>Sometime</td>\n",
       "      <td>Almost never</td>\n",
       "      <td>Sometime</td>\n",
       "      <td>Sometime</td>\n",
       "      <td>Almost never</td>\n",
       "    </tr>\n",
       "    <tr>\n",
       "      <th>3</th>\n",
       "      <td>u03</td>\n",
       "      <td>pre</td>\n",
       "      <td>Sometime</td>\n",
       "      <td>Almost never</td>\n",
       "      <td>Sometime</td>\n",
       "      <td>Almost never</td>\n",
       "      <td>Sometime</td>\n",
       "      <td>Never</td>\n",
       "      <td>Almost never</td>\n",
       "      <td>Never</td>\n",
       "      <td>Never</td>\n",
       "      <td>Never</td>\n",
       "    </tr>\n",
       "    <tr>\n",
       "      <th>4</th>\n",
       "      <td>u04</td>\n",
       "      <td>pre</td>\n",
       "      <td>Almost never</td>\n",
       "      <td>Almost never</td>\n",
       "      <td>Fairly often</td>\n",
       "      <td>Sometime</td>\n",
       "      <td>Sometime</td>\n",
       "      <td>Fairly often</td>\n",
       "      <td>Sometime</td>\n",
       "      <td>Almost never</td>\n",
       "      <td>Sometime</td>\n",
       "      <td>Sometime</td>\n",
       "    </tr>\n",
       "  </tbody>\n",
       "</table>\n",
       "</div>"
      ],
      "text/plain": [
       "   uid type           one           two         three          four  \\\n",
       "0  u00  pre      Sometime      Sometime  Fairly often  Fairly often   \n",
       "1  u01  pre      Sometime      Sometime      Sometime      Sometime   \n",
       "2  u02  pre  Fairly often      Sometime      Sometime  Fairly often   \n",
       "3  u03  pre      Sometime  Almost never      Sometime  Almost never   \n",
       "4  u04  pre  Almost never  Almost never  Fairly often      Sometime   \n",
       "\n",
       "           five           six         seven         eight          nine  \\\n",
       "0      Sometime    Very often      Sometime      Sometime  Fairly often   \n",
       "1  Fairly often      Sometime  Fairly often  Fairly often  Almost never   \n",
       "2  Almost never      Sometime  Almost never      Sometime      Sometime   \n",
       "3      Sometime         Never  Almost never         Never         Never   \n",
       "4      Sometime  Fairly often      Sometime  Almost never      Sometime   \n",
       "\n",
       "            ten  \n",
       "0  Fairly often  \n",
       "1  Almost never  \n",
       "2  Almost never  \n",
       "3         Never  \n",
       "4      Sometime  "
      ]
     },
     "execution_count": 33,
     "metadata": {},
     "output_type": "execute_result"
    }
   ],
   "source": [
    "colname = ['uid','type','one','two','three','four','five','six','seven','eight','nine','ten']\n",
    "psc = pd.read_csv(\"C:/Users/Nandhika/Documents/GitHub_Projects_Statistics/data/dataset/survey/PerceivedStressScale.csv\",names=colname,skiprows=1)\n",
    "psc.head()"
   ]
  },
  {
   "cell_type": "code",
   "execution_count": 36,
   "id": "ed1965a0",
   "metadata": {},
   "outputs": [
    {
     "name": "stdout",
     "output_type": "stream",
     "text": [
      "['Sometime' 'Fairly often' 'Almost never' 'Very often' 'Never']\n",
      "['Almost never' 'Sometime' 'Very often' 'Fairly often']\n"
     ]
    }
   ],
   "source": [
    "#Displaying the categories present in the 1st question before the intervention\n",
    "print(psc[psc['type']=='pre']['one'].unique())\n",
    "#Displaying the categories present in the 1st question after the intervention\n",
    "print(psc[psc['type']=='post']['one'].unique())"
   ]
  },
  {
   "cell_type": "code",
   "execution_count": 38,
   "id": "05a12198",
   "metadata": {},
   "outputs": [
    {
     "data": {
      "text/plain": [
       "Sometime        18\n",
       "Almost never    16\n",
       "Fairly often     9\n",
       "Very often       2\n",
       "Never            1\n",
       "Name: one, dtype: int64"
      ]
     },
     "execution_count": 38,
     "metadata": {},
     "output_type": "execute_result"
    }
   ],
   "source": [
    "#Displaying the frequency in the first question before the intervention\n",
    "psc[psc['type']=='pre']['one'].value_counts()"
   ]
  },
  {
   "cell_type": "markdown",
   "id": "00e683c0",
   "metadata": {},
   "source": [
    "- The mode here is 'Sometime'.\n",
    "- This means that in the last month majority of students had been upset **Sometimes** because of something that happened unexpectedly."
   ]
  },
  {
   "cell_type": "code",
   "execution_count": 39,
   "id": "0a0d6df4",
   "metadata": {},
   "outputs": [
    {
     "data": {
      "text/plain": [
       "Almost never    16\n",
       "Sometime        14\n",
       "Fairly often     7\n",
       "Very often       2\n",
       "Name: one, dtype: int64"
      ]
     },
     "execution_count": 39,
     "metadata": {},
     "output_type": "execute_result"
    }
   ],
   "source": [
    "#Displaying the frequency in the first question after the intervention\n",
    "psc[psc['type']=='post']['one'].value_counts()"
   ]
  },
  {
   "cell_type": "markdown",
   "id": "bf24becc",
   "metadata": {},
   "source": [
    "- The mode here is 'Almost Never' \n",
    "- So, here the number of students who had **Almost Never** been upset because of something that happened unexpectedly had hit the majority. \n",
    "- This does seem to indicate a good improvement. "
   ]
  },
  {
   "cell_type": "markdown",
   "id": "0851dcbd",
   "metadata": {},
   "source": [
    "This would be the end of Part -2 in Sadly Statistics. I am admitting that I am humbly learning statistics and may I request you to pardon me if there are any mistakes. I also really look forward to you, if you would be able to point out and correct my errors!"
   ]
  }
 ],
 "metadata": {
  "kernelspec": {
   "display_name": "Python 3 (ipykernel)",
   "language": "python",
   "name": "python3"
  },
  "language_info": {
   "codemirror_mode": {
    "name": "ipython",
    "version": 3
   },
   "file_extension": ".py",
   "mimetype": "text/x-python",
   "name": "python",
   "nbconvert_exporter": "python",
   "pygments_lexer": "ipython3",
   "version": "3.8.8"
  }
 },
 "nbformat": 4,
 "nbformat_minor": 5
}
