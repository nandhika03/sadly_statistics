{
 "cells": [
  {
   "cell_type": "markdown",
   "id": "c0d5852d",
   "metadata": {},
   "source": [
    "# **Hypothesis**\n",
    "\n",
    "- It is an educated guess of the unknown\n",
    "- It is good, because it transforms the research question into a hypothesis which is then easy for continuing the research.\n",
    "- In the hypothesis, the sample and the population is important\n",
    "- The sample should be a representative of the population\n",
    "- Sampling error: the difference between the values in test statistic (mean, std, etc) of the population and the sampl- Standard - Standard error: the variance in the values of test statistic taken from different groups of the same population.\n",
    "\n",
    "### **Null hypothesis**\n",
    "\n",
    "- It states that there is no relationship between the variables\n",
    "- It sets a benchmark that the research is started at a point where no bias is involved\n",
    "- It also sets a benchmark for comparison with the research hypothesis\n",
    "\n",
    "### **Research hypothesis**\n",
    "\n",
    "- There can be more than one research hypothesis for one null hypothesis\n",
    "- It can be non-directional (two tailed tests) where it is stated that there is some relationship between the variables, but we do not know if that relationship is positive or negative.\n",
    "- It can be directional (one tailed tests) where it is state that there is a definite positive or negative relationship between the variables\n",
    "\n",
    "### **The difference**\n",
    "\n",
    "- Null hypothesis is for the population, whereas research hypothesis represents the sample\n",
    "- Null hypothesis uses an equal to sign, whereas reasearch hypothesis uses a not equal to, greater than or lesser than sign.\n",
    "- It is represented using greek numerals, the other is represented using roman numerals\n",
    "- Null hypothesis is tested indirectly, the other is tested directly.\n",
    "- Null hypothesis states that there is no relationship, whereas research hypothesis states that there is a relationship.\n",
    "\n",
    "### **What is a good research hypothesis?**\n",
    "\n",
    "- It should be declarative\n",
    "- It should be brief\n",
    "- It should reflect the theory or literature that it is being based on \n",
    "- It should be testable and the variables should be measurable\n",
    "- It should poist an expected relationship\n",
    "\n",
    "##### - Null hypothesis is also called as an implied hypothesis"
   ]
  }
 ],
 "metadata": {
  "kernelspec": {
   "display_name": "Python 3 (ipykernel)",
   "language": "python",
   "name": "python3"
  },
  "language_info": {
   "codemirror_mode": {
    "name": "ipython",
    "version": 3
   },
   "file_extension": ".py",
   "mimetype": "text/x-python",
   "name": "python",
   "nbconvert_exporter": "python",
   "pygments_lexer": "ipython3",
   "version": "3.8.8"
  }
 },
 "nbformat": 4,
 "nbformat_minor": 5
}
