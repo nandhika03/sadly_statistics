{
 "cells": [
  {
   "cell_type": "markdown",
   "id": "bc0ac0da",
   "metadata": {},
   "source": [
    "# **The Measures of Variability**\n",
    "\n",
    "The measures of variability in plain words, simply helps us to see how much the data is varied or dispersed among themselves. There are three main measures of variability. \n",
    "\n",
    "### **Range:**\n",
    "\n",
    "- Range measures how far the data points are in a distribution\n",
    "- The formula would just be the highest value minus the lowest value\n",
    "- There is the inclusive range and exclusive range where the exclusive range is the formula mentioned above\n",
    "- The inclusive range includes another minus one in the formula\n",
    "- Boxplot is one great visualization to determine the range of the data values\n",
    "\n",
    "### **Standard Deviation:**\n",
    "\n",
    "- The standard deviation is the average measure of deviation of data points from the mean value.\n",
    "- Like the mean, it is also sensitive to extreme values.\n",
    "- The formula involves:\n",
    "      Std = square root{ (X-Mean)2/n-1}\n",
    "- Here the n is subtracted by 1 to accomodate for any error in the estimated standard deviation\n",
    "- There also exists the absolute standard deviation where instead of taking sqaures, we just take the absolute values and find their average\n",
    "- The more the size of the sample is closer to the size of the population the more representative it (descriptive statistic measures) become\n",
    "\n",
    "### **Variance:**\n",
    "\n",
    "- It is quite similiar the standard deviation.\n",
    "- However, the square root in the formula is eliminated by squaring the standard deviation.\n",
    "- Variance differs with standard deviation by the type of unit and also it gives more weight to big deviations and lesser weights to smaller deviations.\n",
    "- Example: 4x4 = 16 and 0.5x0.5 will be 0.25\n",
    "- So we can use this measure where we need to give more sensitivity to larger deviations.\n",
    "- It can also be useful for other mathematical calculations"
   ]
  },
  {
   "cell_type": "code",
   "execution_count": 3,
   "id": "5feed977",
   "metadata": {},
   "outputs": [],
   "source": [
    "#Importing the necessary libraries\n",
    "import numpy as np\n",
    "import pandas as pd\n",
    "import matplotlib.pyplot as plt\n",
    "import seaborn as sns"
   ]
  },
  {
   "cell_type": "code",
   "execution_count": 29,
   "id": "94979911",
   "metadata": {},
   "outputs": [
    {
     "data": {
      "text/html": [
       "<div>\n",
       "<style scoped>\n",
       "    .dataframe tbody tr th:only-of-type {\n",
       "        vertical-align: middle;\n",
       "    }\n",
       "\n",
       "    .dataframe tbody tr th {\n",
       "        vertical-align: top;\n",
       "    }\n",
       "\n",
       "    .dataframe thead th {\n",
       "        text-align: right;\n",
       "    }\n",
       "</style>\n",
       "<table border=\"1\" class=\"dataframe\">\n",
       "  <thead>\n",
       "    <tr style=\"text-align: right;\">\n",
       "      <th></th>\n",
       "      <th>uid</th>\n",
       "      <th>gpa_all</th>\n",
       "      <th>gpa_13s</th>\n",
       "      <th>cs_65</th>\n",
       "    </tr>\n",
       "  </thead>\n",
       "  <tbody>\n",
       "    <tr>\n",
       "      <th>0</th>\n",
       "      <td>u01</td>\n",
       "      <td>2.863</td>\n",
       "      <td>1.777778</td>\n",
       "      <td>3.0</td>\n",
       "    </tr>\n",
       "    <tr>\n",
       "      <th>1</th>\n",
       "      <td>u02</td>\n",
       "      <td>3.505</td>\n",
       "      <td>4.000000</td>\n",
       "      <td>4.0</td>\n",
       "    </tr>\n",
       "    <tr>\n",
       "      <th>2</th>\n",
       "      <td>u04</td>\n",
       "      <td>3.029</td>\n",
       "      <td>3.500000</td>\n",
       "      <td>4.0</td>\n",
       "    </tr>\n",
       "    <tr>\n",
       "      <th>3</th>\n",
       "      <td>u05</td>\n",
       "      <td>3.679</td>\n",
       "      <td>3.777778</td>\n",
       "      <td>4.0</td>\n",
       "    </tr>\n",
       "    <tr>\n",
       "      <th>4</th>\n",
       "      <td>u07</td>\n",
       "      <td>3.474</td>\n",
       "      <td>4.000000</td>\n",
       "      <td>4.0</td>\n",
       "    </tr>\n",
       "  </tbody>\n",
       "</table>\n",
       "</div>"
      ],
      "text/plain": [
       "   uid  gpa_all   gpa_13s  cs_65\n",
       "0  u01    2.863  1.777778    3.0\n",
       "1  u02    3.505  4.000000    4.0\n",
       "2  u04    3.029  3.500000    4.0\n",
       "3  u05    3.679  3.777778    4.0\n",
       "4  u07    3.474  4.000000    4.0"
      ]
     },
     "execution_count": 29,
     "metadata": {},
     "output_type": "execute_result"
    }
   ],
   "source": [
    "#Importing the dataset\n",
    "\n",
    "colnames = ['uid','gpa_all','gpa_13s','cs_65']\n",
    "grades = pd.read_csv(\"C:/Users/Nandhika/Documents/GitHub_Projects_Statistics/data/dataset/education/grades.csv\",names=colnames,skiprows=1)\n",
    "\n",
    "#Displaying the first 5 observations from the dataset\n",
    "\n",
    "grades.head()"
   ]
  },
  {
   "cell_type": "markdown",
   "id": "4ac39dbe",
   "metadata": {},
   "source": [
    "**Feature Explanation:**\n",
    "\n",
    "- The 'uid' refers to the student's id, here\n",
    "- The 'gpa_all' corresponds to the Cummulative GPA\n",
    "- The 'gpa_13s' refers to the GPA of the spring term 2013.\n",
    "- The 'cs_65' has the GPA of that particular subject"
   ]
  },
  {
   "cell_type": "code",
   "execution_count": 26,
   "id": "19750add",
   "metadata": {},
   "outputs": [],
   "source": [
    "def rang(df):\n",
    "    return df.max() - df.min()"
   ]
  },
  {
   "cell_type": "markdown",
   "id": "7e9d1cdb",
   "metadata": {},
   "source": [
    "- There are no in-built python functions to calculate the range of columns in a dataframe. Hence I am using an user-defined fucntion called \"rang\" here."
   ]
  },
  {
   "cell_type": "code",
   "execution_count": 30,
   "id": "8c99ed14",
   "metadata": {},
   "outputs": [
    {
     "data": {
      "text/html": [
       "<div>\n",
       "<style scoped>\n",
       "    .dataframe tbody tr th:only-of-type {\n",
       "        vertical-align: middle;\n",
       "    }\n",
       "\n",
       "    .dataframe tbody tr th {\n",
       "        vertical-align: top;\n",
       "    }\n",
       "\n",
       "    .dataframe thead th {\n",
       "        text-align: right;\n",
       "    }\n",
       "</style>\n",
       "<table border=\"1\" class=\"dataframe\">\n",
       "  <thead>\n",
       "    <tr style=\"text-align: right;\">\n",
       "      <th></th>\n",
       "      <th>GPA_ALL</th>\n",
       "      <th>GPA_SPRING_13</th>\n",
       "      <th>GPA_CS65</th>\n",
       "    </tr>\n",
       "  </thead>\n",
       "  <tbody>\n",
       "    <tr>\n",
       "      <th>Range</th>\n",
       "      <td>1.547000</td>\n",
       "      <td>3.000000</td>\n",
       "      <td>3.000000</td>\n",
       "    </tr>\n",
       "    <tr>\n",
       "      <th>Standard_deviation</th>\n",
       "      <td>0.397754</td>\n",
       "      <td>0.798284</td>\n",
       "      <td>0.646140</td>\n",
       "    </tr>\n",
       "    <tr>\n",
       "      <th>Variance</th>\n",
       "      <td>0.158208</td>\n",
       "      <td>0.637258</td>\n",
       "      <td>0.417497</td>\n",
       "    </tr>\n",
       "  </tbody>\n",
       "</table>\n",
       "</div>"
      ],
      "text/plain": [
       "                     GPA_ALL  GPA_SPRING_13  GPA_CS65\n",
       "Range               1.547000       3.000000  3.000000\n",
       "Standard_deviation  0.397754       0.798284  0.646140\n",
       "Variance            0.158208       0.637258  0.417497"
      ]
     },
     "execution_count": 30,
     "metadata": {},
     "output_type": "execute_result"
    }
   ],
   "source": [
    "#Calculating the measures of variability for all the features\n",
    "\n",
    "data = {\n",
    "    'GPA_ALL': [ rang(grades['gpa_all']), grades['gpa_all'].std(), grades['gpa_all'].var()],\n",
    "    'GPA_SPRING_13': [ rang(grades['gpa_13s']), grades['gpa_13s'].std(), grades['gpa_13s'].var()],\n",
    "    'GPA_CS65': [rang(grades['cs_65']), grades['cs_65'].std(), grades['cs_65'].var()]\n",
    "}\n",
    "\n",
    "grades_mc = pd.DataFrame(data, index=['Range', 'Standard_deviation','Variance'])\n",
    "grades_mc"
   ]
  },
  {
   "cell_type": "markdown",
   "id": "297219bd",
   "metadata": {},
   "source": [
    "**Range**\n",
    "\n",
    "- A small value of range can indicate that there is not much difference between the highest value and the lowest value like in the gpa_all column\n",
    "- We can see that the range in the cs65 column is exactly the highest value of the column. This indicates that there might be a null value 'zero value'. We mutate the value by putting an average value of mean based on the column, because we know that the GPA cannot be Zero. However, this value can be a bit over-estimated comparing the other GPA values of that particular student.\n",
    "\n",
    "**Standard Deviation**\n",
    "\n",
    "- The gpa_all column has the least difference which means most of their values are the same\n",
    "- The high std is other two columns can be signs of outliers as std is sensitive to outliers.\n",
    "\n",
    "**Variance**\n",
    "\n",
    "- The first column has smaller variance that the standard deviation proving the statement that \"it gives more weight to big deviations and lesser weights to smaller deviations.\"\n"
   ]
  },
  {
   "cell_type": "markdown",
   "id": "07dbba8d",
   "metadata": {},
   "source": [
    "## **Using  seaborn plots to visualize variability:**\n"
   ]
  },
  {
   "cell_type": "code",
   "execution_count": 31,
   "id": "e3d2e656",
   "metadata": {},
   "outputs": [],
   "source": [
    "#Dropping the id column \n",
    "grades_box = grades.drop(columns=['uid'])\n",
    "#Using melt fucntion to change the data into long-form\n",
    "grades_melted = grades_box.melt(var_name=\"Different GPAs\",value_name='Values')"
   ]
  },
  {
   "cell_type": "markdown",
   "id": "e9394412",
   "metadata": {},
   "source": [
    "### **Boxplot:**\n",
    "\n",
    "- The middle line in the plot represents the median score.\n",
    "- The starting of the box is the 25 th percentile and the ending corner is the 75th percentile\n",
    "- The area inside the box is the interquartile range\n",
    "- The lower end of the boxplot is the minimum value and the other end represents the maximum value\n",
    "- The dots represents the outliers"
   ]
  },
  {
   "cell_type": "code",
   "execution_count": 33,
   "id": "818dbe4d",
   "metadata": {},
   "outputs": [
    {
     "data": {
      "image/png": "[encoded data removed]",
      "text/plain": [
       "<Figure size 432x288 with 1 Axes>"
      ]
     },
     "metadata": {
      "needs_background": "light"
     },
     "output_type": "display_data"
    }
   ],
   "source": [
    "#Boxplot\n",
    "sns.boxplot(x=\"Different GPAs\",y=\"Values\",data = grades_melted)\n",
    "plt.show()"
   ]
  },
  {
   "cell_type": "markdown",
   "id": "ab0b523d",
   "metadata": {},
   "source": [
    "- We can see that the cs_65 column's box does not have a middle line. This is because the median value here is itself the maximum value\n",
    "- We can observe that there are more extreme outliers in the 13s and cs65 columns, leading to a higher value of deviation than the all gpa column"
   ]
  },
  {
   "cell_type": "markdown",
   "id": "8efa5039",
   "metadata": {},
   "source": [
    "### **Violinplot:**\n",
    "\n",
    "- The middle white star in the plot represents the median score.\n",
    "- The area inside the gray box is the interquartile range\n",
    "- The lower end of the gray box is the minimum value and the other end represents the maximum value and the rest of the distribution.\n",
    "- The waves around it actually represents a KDE plot\n",
    "- It shows where the values are dense (populated) and where they are not."
   ]
  },
  {
   "cell_type": "code",
   "execution_count": 34,
   "id": "ce4e4a8d",
   "metadata": {},
   "outputs": [
    {
     "data": {
      "text/plain": [
       "<AxesSubplot:xlabel='Different GPAs', ylabel='Values'>"
      ]
     },
     "execution_count": 34,
     "metadata": {},
     "output_type": "execute_result"
    },
    {
     "data": {
      "image/png": "[encoded data removed]",
      "text/plain": [
       "<Figure size 432x288 with 1 Axes>"
      ]
     },
     "metadata": {
      "needs_background": "light"
     },
     "output_type": "display_data"
    }
   ],
   "source": [
    "#Violinplot\n",
    "sns.violinplot(x=\"Different GPAs\",y=\"Values\",data = grades_melted)"
   ]
  },
  {
   "cell_type": "markdown",
   "id": "d485601b",
   "metadata": {},
   "source": [
    "- We can see that near the outliers the violin plot is very much thinner representing the fact that very less number of observations possess that particular value."
   ]
  },
  {
   "cell_type": "markdown",
   "id": "263a175f",
   "metadata": {},
   "source": [
    "### **Swarmplot:**\n",
    "\n",
    "- This can be thought of a categorical scatterplot\n",
    "- It shows the distribution of each data point over different variables without overlapping\n",
    "- If the columns are similar in distribution we can easily interpret it using this plot"
   ]
  },
  {
   "cell_type": "code",
   "execution_count": 22,
   "id": "5e57623a",
   "metadata": {},
   "outputs": [
    {
     "data": {
      "text/plain": [
       "<AxesSubplot:xlabel='Different GPAs', ylabel='Values'>"
      ]
     },
     "execution_count": 22,
     "metadata": {},
     "output_type": "execute_result"
    },
    {
     "data": {
      "image/png": "[encoded data removed]",
      "text/plain": [
       "<Figure size 432x288 with 1 Axes>"
      ]
     },
     "metadata": {
      "needs_background": "light"
     },
     "output_type": "display_data"
    }
   ],
   "source": [
    "sns.swarmplot(x=\"Different GPAs\",y=\"Values\",data = grades_melted)"
   ]
  },
  {
   "cell_type": "markdown",
   "id": "0df2a874",
   "metadata": {},
   "source": [
    "- Here we can see that all columns have varied distribtuions"
   ]
  },
  {
   "cell_type": "markdown",
   "id": "b9f1dbcf",
   "metadata": {},
   "source": [
    "### **Pointplot:**\n",
    "\n",
    "- The middle point in the line  represents the mean score.\n",
    "- It can be changed to median score using the estimator argument\n",
    "- The line above and below the point represents the **95% confidence interval** which means that given that the data is a random sample from a population, then we can be 95% confident that the mean of the population lies between the CI value.\n",
    "- Now we can use the error_bar argument to show the standard deviation which otherwise would imply the mean."
   ]
  },
  {
   "cell_type": "code",
   "execution_count": 45,
   "id": "b698195c",
   "metadata": {},
   "outputs": [
    {
     "data": {
      "text/plain": [
       "<AxesSubplot:xlabel='Different GPAs', ylabel='Values'>"
      ]
     },
     "execution_count": 45,
     "metadata": {},
     "output_type": "execute_result"
    },
    {
     "data": {
      "image/png": "[encoded data removed]",
      "text/plain": [
       "<Figure size 432x288 with 1 Axes>"
      ]
     },
     "metadata": {
      "needs_background": "light"
     },
     "output_type": "display_data"
    }
   ],
   "source": [
    "sns.pointplot(x=\"Different GPAs\",y=\"Values\",data = grades_melted,error_bar=\"sd\")"
   ]
  },
  {
   "cell_type": "markdown",
   "id": "fb09d739",
   "metadata": {},
   "source": [
    "- We can see the same trend that the standard deviation is the highest for the middle feature, followed by the cs_65 and the gpa_all\n"
   ]
  },
  {
   "cell_type": "markdown",
   "id": "305e3cc2",
   "metadata": {},
   "source": [
    "### **Barplot:**\n",
    "\n",
    "- Like a common barplot, by specifying the confidence interval to standard deviation, we can infer the variability."
   ]
  },
  {
   "cell_type": "code",
   "execution_count": 24,
   "id": "559e5d6b",
   "metadata": {},
   "outputs": [
    {
     "data": {
      "text/plain": [
       "<AxesSubplot:xlabel='Different GPAs', ylabel='Values'>"
      ]
     },
     "execution_count": 24,
     "metadata": {},
     "output_type": "execute_result"
    },
    {
     "data": {
      "image/png": "[encoded data removed]",
      "text/plain": [
       "<Figure size 432x288 with 1 Axes>"
      ]
     },
     "metadata": {
      "needs_background": "light"
     },
     "output_type": "display_data"
    }
   ],
   "source": [
    "sns.barplot(x=\"Different GPAs\",y=\"Values\",data = grades_melted, ci=\"sd\")"
   ]
  },
  {
   "cell_type": "markdown",
   "id": "00085d51",
   "metadata": {},
   "source": [
    "This would be the end of Part -3 in Sadly Statistics. I am admitting that I am humbly learning statistics and may I request you to pardon me if there are any mistakes. I also really look forward to you, if you would be able to point out and correct my errors!"
   ]
  }
 ],
 "metadata": {
  "kernelspec": {
   "display_name": "Python 3 (ipykernel)",
   "language": "python",
   "name": "python3"
  },
  "language_info": {
   "codemirror_mode": {
    "name": "ipython",
    "version": 3
   },
   "file_extension": ".py",
   "mimetype": "text/x-python",
   "name": "python",
   "nbconvert_exporter": "python",
   "pygments_lexer": "ipython3",
   "version": "3.8.8"
  }
 },
 "nbformat": 4,
 "nbformat_minor": 5
}
